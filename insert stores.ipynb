{
 "cells": [
  {
   "cell_type": "markdown",
   "id": "extra-currency",
   "metadata": {},
   "source": [
    "# Read file from db"
   ]
  },
  {
   "cell_type": "code",
   "execution_count": 5,
   "id": "annoying-prerequisite",
   "metadata": {},
   "outputs": [
    {
     "name": "stdout",
     "output_type": "stream",
     "text": [
      "Print all stores\n",
      "5280\n"
     ]
    }
   ],
   "source": [
    "import sqlite3\n",
    "from sqlite3 import Error\n",
    "\n",
    "def create_connection(db_file):\n",
    "    \"\"\" create a database connection to the SQLite database\n",
    "        specified by the db_file\n",
    "    :param db_file: database file\n",
    "    :return: Connection object or None\n",
    "    \"\"\"\n",
    "    conn = None\n",
    "    try:\n",
    "        conn = sqlite3.connect(db_file)\n",
    "    except Error as e:\n",
    "        print(e)\n",
    "\n",
    "    return conn\n",
    "\n",
    "def select_all_tasks(conn):\n",
    "    \"\"\"\n",
    "    Query all rows in the tasks table\n",
    "    :param conn: the Connection object\n",
    "    :return:\n",
    "    \"\"\"\n",
    "    cur = conn.cursor()\n",
    "    cur.execute(\"SELECT * FROM Store\")\n",
    "\n",
    "    rows = cur.fetchall()\n",
    "    return rows\n",
    "        \n",
    "database = r\"/Users/yumengluo/Desktop/claire/Columbia/6998/6998-team/cc6998-grp-prj/data/stores.db\"\n",
    "\n",
    "# create a database connection\n",
    "conn = create_connection(database)\n",
    "with conn:\n",
    "\n",
    "    print(\"Print all stores\")\n",
    "    rows = select_all_tasks(conn)\n",
    "    print(len(rows))\n",
    "    "
   ]
  },
  {
   "cell_type": "code",
   "execution_count": 12,
   "id": "prime-turtle",
   "metadata": {},
   "outputs": [
    {
     "data": {
      "text/plain": [
       "[('JOHN GLENN', 1, 'Wegmans Store', 43.13316, -76.2232),\n",
       " ('CHERRY HILL WINE', 2, 'Wine Store', 39.92248, -75.03552),\n",
       " ('EASTWAY', 3, 'Wegmans Store', 43.19323, -77.5043),\n",
       " ('FAIRPORT', 4, 'Wegmans Store', 43.1019, -77.4825),\n",
       " ('WOODBRIDGE WINE', 5, 'Wine Store', 40.5488, -74.2968),\n",
       " ('NEWARK', 6, 'Wegmans Store', 43.0452, -77.1139),\n",
       " ('DULLES', 7, 'Wegmans Store', 39.00691, -77.44081),\n",
       " ('MT. LAUREL', 8, 'Wegmans Store', 39.96771, -74.91507),\n",
       " ('OCEAN', 9, 'Wegmans Store', 40.239108, -74.03991),\n",
       " ('CHERRY HILL', 10, 'Wegmans Store', 39.92248, -75.03552)]"
      ]
     },
     "execution_count": 12,
     "metadata": {},
     "output_type": "execute_result"
    }
   ],
   "source": [
    "rows[0:10]"
   ]
  },
  {
   "cell_type": "markdown",
   "id": "weighted-dating",
   "metadata": {},
   "source": [
    "# Create table"
   ]
  },
  {
   "cell_type": "code",
   "execution_count": 9,
   "id": "veterinary-holly",
   "metadata": {},
   "outputs": [
    {
     "name": "stdout",
     "output_type": "stream",
     "text": [
      "{\r\n",
      "    \"TableDescription\": {\r\n",
      "        \"AttributeDefinitions\": [\r\n",
      "            {\r\n",
      "                \"AttributeName\": \"id\",\r\n",
      "                \"AttributeType\": \"S\"\r\n",
      "            }\r\n",
      "        ],\r\n",
      "        \"TableName\": \"stores\",\r\n",
      "        \"KeySchema\": [\r\n",
      "            {\r\n",
      "                \"AttributeName\": \"id\",\r\n",
      "                \"KeyType\": \"HASH\"\r\n",
      "            }\r\n",
      "        ],\r\n",
      "        \"TableStatus\": \"CREATING\",\r\n",
      "        \"CreationDateTime\": \"2021-12-01T19:42:09.834000-05:00\",\r\n",
      "        \"ProvisionedThroughput\": {\r\n",
      "            \"NumberOfDecreasesToday\": 0,\r\n",
      "            \"ReadCapacityUnits\": 10,\r\n",
      "            \"WriteCapacityUnits\": 5\r\n",
      "        },\r\n",
      "        \"TableSizeBytes\": 0,\r\n",
      "        \"ItemCount\": 0,\r\n",
      "        \"TableArn\": \"arn:aws:dynamodb:us-east-1:859913276865:table/stores\",\r\n",
      "        \"TableId\": \"7876ec81-3cb9-46a8-ac2e-b03cc73f4f08\"\r\n",
      "    }\r\n",
      "}\r\n"
     ]
    }
   ],
   "source": [
    "!aws dynamodb create-table --table-name stores --key-schema         AttributeName=id,KeyType=HASH --provisioned-throughput         ReadCapacityUnits=10,WriteCapacityUnits=5    --attribute-definitions         AttributeName=id,AttributeType=S "
   ]
  },
  {
   "cell_type": "markdown",
   "id": "palestinian-tribune",
   "metadata": {},
   "source": [
    "# Put item"
   ]
  },
  {
   "cell_type": "code",
   "execution_count": 19,
   "id": "senior-wrong",
   "metadata": {},
   "outputs": [],
   "source": [
    "import datetime \n",
    "from pytz import timezone\n",
    "from decimal import Decimal\n",
    "import json\n",
    "def generate_string(store, i):\n",
    "    now = datetime.datetime.now(timezone('US/Eastern')) \n",
    "    \n",
    "    d = {}\n",
    "    name,num,store_name,lat,lon = store\n",
    "    d['name'] ={'S': name}\n",
    "    d['brand_id'] = {'S':str(num)}\n",
    "    d['id'] = {'S':store_name+\"-\"+str(num)+\"-\"+name}\n",
    "    d['brand_name'] = {'S':store_name}\n",
    "    d['lat'] = {'S':str(lat)}\n",
    "    d['lon'] = {'S':str(lon)}\n",
    "    d['insertedAtTimestamp']={'S':now.strftime('%Y-%m-%dT%H:%M:%S-%Z')}\n",
    "    s = json.dumps(d)\n",
    "    s = '\\''+s+'\\''\n",
    "    return s\n"
   ]
  },
  {
   "cell_type": "code",
   "execution_count": null,
   "id": "varying-yellow",
   "metadata": {},
   "outputs": [],
   "source": [
    "count = 0\n",
    "for store in rows:\n",
    "    \n",
    "    attribute_s = generate_string(store, count )\n",
    "    !aws dynamodb put-item --table-name stores --item $attribute_s\n",
    "    \n",
    "    count += 1"
   ]
  },
  {
   "cell_type": "code",
   "execution_count": null,
   "id": "characteristic-spanking",
   "metadata": {},
   "outputs": [],
   "source": []
  }
 ],
 "metadata": {
  "kernelspec": {
   "display_name": "Python 3",
   "language": "python",
   "name": "python3"
  },
  "language_info": {
   "codemirror_mode": {
    "name": "ipython",
    "version": 3
   },
   "file_extension": ".py",
   "mimetype": "text/x-python",
   "name": "python",
   "nbconvert_exporter": "python",
   "pygments_lexer": "ipython3",
   "version": "3.7.10"
  }
 },
 "nbformat": 4,
 "nbformat_minor": 5
}
